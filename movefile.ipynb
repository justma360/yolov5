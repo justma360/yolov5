{
 "cells": [
  {
   "cell_type": "markdown",
   "metadata": {},
   "source": [
    "# Converting OIDV4 to CVAT format\n",
    "\n",
    "Only needed if images were gathered from OIDV4 Downloader\n",
    "\n",
    "Under work\n",
    "\n",
    "TODO: \n",
    "- move files to obj_train_data\n",
    "- train_original.txt (```data/obj_train_data/escooter_0.jpg```) - format\n",
    "- create train.txt, obj.data, obj.names\n",
    "\n"
   ]
  },
  {
   "cell_type": "code",
   "execution_count": 3,
   "metadata": {},
   "outputs": [
    {
     "name": "stdout",
     "output_type": "stream",
     "text": [
      "c:\\Users\\Justin\\Documents\\Projects\\OID_YoloV5\\yolov5\\datasets/coco-additions/bicycle_helmet/obj_train_data\n",
      "c:\\Users\\Justin\\Documents\\Projects\\OID_YoloV5\\yolov5\\datasets/coco-additions/bicycle_helmet/train_original.txt\n"
     ]
    },
    {
     "data": {
      "text/plain": [
       "'c:\\\\Users\\\\Justin\\\\Documents\\\\Projects\\\\OID_YoloV5\\\\yolov5\\\\datasets/coco-additions/bicycle_helmet/train.txt'"
      ]
     },
     "execution_count": 3,
     "metadata": {},
     "output_type": "execute_result"
    }
   ],
   "source": [
    "import os\n",
    "import shutil\n",
    "# Function to create train.txt from obj_train_data folder\n",
    "object_name = \"bicycle_helmet\"\n",
    "obj_train_path = os.path.join(os.getcwd(),\"datasets/coco-additions/\"+ object_name + \"/obj_train_data\")\n",
    "\n",
    "print(obj_train_path)\n",
    "train_files = os.listdir(obj_train_path)\n",
    "# print(train_files)\n",
    "\n",
    "annotations= []\n",
    "for file_names in [file for file in train_files if file.endswith(\".jpg\")]: # for each line\n",
    "  image_line = f\"data/obj_train_data/{file_names}\"\n",
    "  annotations.append(image_line) # List of string for each line (replace first value with class number entered)\n",
    "\n",
    "\n",
    "# for all images rename to <class_name>_number\n",
    "new_annotations = []\n",
    "for idx,files_names in enumerate(annotations):\n",
    "  # obj_train_path # folder path\n",
    "  txt_name = os.path.splitext(os.path.basename(files_names))[0]  + \".txt\"\n",
    "  jpg_name = os.path.basename(files_names)\n",
    "  \n",
    "  # print(obj_train_path + f\"/{txt_name}\", obj_train_path + f\"/{object_name}_{idx+1}\" + \".txt\" )\n",
    "  # print(obj_train_path + f\"/{jpg_name}\", obj_train_path + f\"/{object_name}_{idx+1}\" + \".jpg\")\n",
    "  try: \n",
    "    os.rename(obj_train_path + f\"/{txt_name}\", obj_train_path + f\"/{object_name}_{idx+1}\" + \".txt\" )\n",
    "    os.rename(obj_train_path + f\"/{jpg_name}\", obj_train_path + f\"/{object_name}_{idx+1}\" + \".jpg\") \n",
    "    new_annotations.append(\"data/obj_train_data\"+f\"/{object_name}_{idx+1}\" + \".jpg\")\n",
    "  except Exception as e:\n",
    "    print(f'File {txt_name} missing')\n",
    "\n",
    "# print(os.path.join(os.getcwd(),\"datasets/coco-additions/\"+ object_name + \"/train_original.txt\"))\n",
    "train_original_txt= os.path.join(os.getcwd(),\"datasets/coco-additions/\"+ object_name + \"/train_original.txt\")\n",
    "print(train_original_txt)\n",
    "\n",
    "with open(train_original_txt, 'w') as outfile:\n",
    "  for line in new_annotations:\n",
    "      outfile.write(line)\n",
    "      outfile.write(\"\\n\")\n",
    "outfile.close()\n",
    "\n",
    "shutil.copy(train_original_txt, os.path.join(os.getcwd(),\"datasets/coco-additions/\"+ object_name + \"/train.txt\")) # copy the original to train.txt"
   ]
  },
  {
   "cell_type": "markdown",
   "metadata": {},
   "source": [
    "# Useful conversion functions\n"
   ]
  },
  {
   "cell_type": "markdown",
   "metadata": {},
   "source": [
    "Duplicate the train.txt so that we have a spare copy called train_original.txt"
   ]
  },
  {
   "cell_type": "code",
   "execution_count": 1,
   "metadata": {},
   "outputs": [
    {
     "name": "stdout",
     "output_type": "stream",
     "text": [
      "[Errno 2] No such file or directory: 'c:\\\\Users\\\\Justin\\\\Documents\\\\Projects\\\\OID_YoloV5\\\\yolov5\\\\datasets\\\\coco-additions\\\\finished\\\\train.txt'\n"
     ]
    }
   ],
   "source": [
    "import os\n",
    "import shutil\n",
    "\n",
    "coco_additions_path = os.path.join(os.getcwd(),\"datasets/coco-additions/\")\n",
    "# print(coco_additions_path)\n",
    "additional_classes = os.listdir(coco_additions_path)\n",
    "# print(additional_classes)\n",
    "\n",
    "\n",
    "for obj in additional_classes:\n",
    "  new_obj_path=os.path.normpath(os.path.join(coco_additions_path,obj))\n",
    "\n",
    "  try: \n",
    "    train_txt_file=os.path.normpath(os.path.join(new_obj_path,\"train.txt\"))\n",
    "    shutil.copyfile(train_txt_file, os.path.normpath(os.path.join(new_obj_path,\"train_original.txt\")))\n",
    "  except Exception as e:\n",
    "    print(e)"
   ]
  },
  {
   "cell_type": "markdown",
   "metadata": {},
   "source": [
    "First changes from CVAT yoloV5 style so that you can change the class number. Thus you can add it on top of coco dataset \n",
    "This function\n",
    "1. Checks each additional path for folder called \"obj_train_data\"\n",
    "2. It will then find all the text files (ending with .txt) \n",
    "3. Ask for a class number to change to \n",
    "4. Find the first string in each text file and change it to the one that was entered\n",
    "5. If the first string is not a digit (throw an error)\n",
    "6. Write the text file back with the new class number"
   ]
  },
  {
   "cell_type": "code",
   "execution_count": 4,
   "metadata": {},
   "outputs": [
    {
     "name": "stdout",
     "output_type": "stream",
     "text": [
      "c:\\Users\\Justin\\Documents\\Projects\\OID_YoloV5\\yolov5\\datasets/coco-additions/bicycle_helmet Does not have 'obj_train_data' folder in it, skipped\n",
      "c:\\Users\\Justin\\Documents\\Projects\\OID_YoloV5\\yolov5\\datasets/coco-additions/electric_hoverboard Does not have 'obj_train_data' folder in it, skipped\n",
      "c:\\Users\\Justin\\Documents\\Projects\\OID_YoloV5\\yolov5\\datasets/coco-additions/electric_scooter Does not have 'obj_train_data' folder in it, skipped\n",
      "c:\\Users\\Justin\\Documents\\Projects\\OID_YoloV5\\yolov5\\datasets/coco-additions/electric_unicycle Does not have 'obj_train_data' folder in it, skipped\n",
      "c:\\Users\\Justin\\Documents\\Projects\\OID_YoloV5\\yolov5\\datasets/coco-additions/finished Does not have 'obj_train_data' folder in it, skipped\n"
     ]
    }
   ],
   "source": [
    "import os \n",
    "\n",
    "coco_additions_path = os.path.join(os.getcwd(),\"datasets/coco-additions/\")\n",
    "# print(coco_additions_path)\n",
    "additional_classes = os.listdir(coco_additions_path)\n",
    "# print(additional_classes)\n",
    "\n",
    "for obj in additional_classes:\n",
    "  new_obj_path=os.path.join(coco_additions_path,obj)\n",
    "\n",
    "  try:\n",
    "    obj_train_data = os.path.join(new_obj_path,\"obj_train_data\") # get the specific file \n",
    "    additional_obj_train_data = [os.path.normpath(os.path.join(obj_train_data,file))  for file in os.listdir(obj_train_data) if  file.endswith(\".txt\")] # find txt in it\n",
    "    class_number  = int(input(f\"[{obj}]Please enter a the new class number as an integer\"))\n",
    "\n",
    "    for text_file in additional_obj_train_data: \n",
    "      annotations = []\n",
    "      with open(text_file) as f: # open text file\n",
    "          for line in f: # for each line\n",
    "            labels = line.split() \n",
    "            if (not labels[0].isdigit()):\n",
    "              raise Exception(text_file, \"label is not a digit (possible still a label not a number)\") \n",
    "\n",
    "            labels[0] = class_number\n",
    "            newline = str(labels[0]) + \" \" + str(labels[1]) + \" \" + str(labels[2]) + \" \" + str(labels[3]) + \" \" + str(labels[4])\n",
    "            line = line.replace(line, newline)\n",
    "            annotations.append(line) # List of string for each line (replace first value with class number entered)\n",
    "          f.close()\n",
    "\n",
    "      with open(text_file, \"w\") as outfile:\n",
    "        for line in annotations:\n",
    "            outfile.write(line)\n",
    "            outfile.write(\"\\n\")\n",
    "        outfile.close()\n",
    "\n",
    "  except Exception as e: \n",
    "    print(new_obj_path, \"Does not have 'obj_train_data' folder in it, skipped\")\n"
   ]
  },
  {
   "cell_type": "markdown",
   "metadata": {},
   "source": [
    "Change the ```train.txt``` file so that it matches the coco2017 ```train2017.txt``` style\n",
    "\n",
    "coco train2017.txt style = ```./images/train2017/000000109622.jpg```\n",
    "\n",
    "cvat yolo style  = ```data/obj_train_data/hoverboard_0.jpg```\n"
   ]
  },
  {
   "cell_type": "code",
   "execution_count": 7,
   "metadata": {},
   "outputs": [
    {
     "name": "stdout",
     "output_type": "stream",
     "text": [
      "/home/roborn/Documents/OID_YoloV5/yolov5/datasets/coco-additions/finished Does not have 'train.txt' folder in it, skipped\n"
     ]
    }
   ],
   "source": [
    "import os\n",
    "import shutil\n",
    "\n",
    "coco_additions_path = os.path.join(os.getcwd(),\"datasets/coco-additions/\")\n",
    "# print(coco_additions_path)\n",
    "additional_classes = os.listdir(coco_additions_path)\n",
    "# print(additional_classes)\n",
    "\n",
    "\n",
    "for obj in additional_classes:\n",
    "  new_obj_path=os.path.normpath(os.path.join(coco_additions_path,obj))\n",
    "\n",
    "  try: \n",
    "    train_txt_file=os.path.normpath(os.path.join(new_obj_path,\"train.txt\"))\n",
    "    shutil.copyfile(os.path.normpath(os.path.join(new_obj_path,\"train_original.txt\")),train_txt_file)\n",
    "\n",
    "    annotations = []\n",
    "    with open(train_txt_file) as f: # open text file\n",
    "        for line in f: # for each line\n",
    "          image_name = line.split(\"/\")[-1].strip() # removes \\n at the end as well\n",
    "          image_line = f\"./images/train2017/{image_name}\"\n",
    "          annotations.append(image_line) # List of string for each line (replace first value with class number entered)\n",
    "        f.close()\n",
    "    with open(train_txt_file, \"w\") as outfile:\n",
    "      for line in annotations:\n",
    "          outfile.write(line)\n",
    "          outfile.write(\"\\n\")\n",
    "      outfile.close()\n",
    "  except Exception as e: \n",
    "    print(new_obj_path, \"Does not have 'train.txt' folder in it, skipped\")\n"
   ]
  },
  {
   "cell_type": "markdown",
   "metadata": {},
   "source": [
    "# Merge the coco2017.txt and the cvat train.txt"
   ]
  },
  {
   "cell_type": "markdown",
   "metadata": {},
   "source": [
    "BUGS: allows duplicates of the same, however yoloV5 training model should be able to deal with it"
   ]
  },
  {
   "cell_type": "code",
   "execution_count": 9,
   "metadata": {},
   "outputs": [
    {
     "name": "stdout",
     "output_type": "stream",
     "text": [
      "/home/roborn/Documents/OID_YoloV5/yolov5/datasets/coco-additions/finished Does not have 'train.txt' folder in it, skipped\n",
      "/home/roborn/Documents/OID_YoloV5/yolov5/datasets/coco-additions/bicycle_helmet Has been appended to datasets/coco2017/train2017.txt\n",
      "/home/roborn/Documents/OID_YoloV5/yolov5/datasets/coco-additions/electric_hoverboard Has been appended to datasets/coco2017/train2017.txt\n",
      "/home/roborn/Documents/OID_YoloV5/yolov5/datasets/coco-additions/electric_unicycle Has been appended to datasets/coco2017/train2017.txt\n",
      "/home/roborn/Documents/OID_YoloV5/yolov5/datasets/coco-additions/electric_scooter Has been appended to datasets/coco2017/train2017.txt\n"
     ]
    }
   ],
   "source": [
    "import os\n",
    "import shutil\n",
    "coco2017_train_path = os.path.join(os.getcwd(),\"datasets/coco2017/train2017.txt\") # opens the train.txt path\n",
    "shutil.copyfile(os.path.normpath(os.path.join(os.getcwd(),\"datasets/coco2017/train2017_original.txt\")),coco2017_train_path) # copy original to train \n",
    "\n",
    "coco2017_file_obj = open(coco2017_train_path, 'a') # open folder to append stuff\n",
    "\n",
    "coco_additions_path = os.path.join(os.getcwd(),\"datasets/coco-additions/\")\n",
    "additional_classes = os.listdir(coco_additions_path)\n",
    "for obj in additional_classes:\n",
    "  new_obj_path=os.path.normpath(os.path.join(coco_additions_path,obj))\n",
    "\n",
    "  try: \n",
    "    train_txt_file=os.path.normpath(os.path.join(new_obj_path,\"train.txt\"))\n",
    "    with open(train_txt_file) as f: # open text file\n",
    "          for line in f: # for each line\n",
    "            coco2017_file_obj.write(line) # append to the end\n",
    "          f.close() # close file when done\n",
    "    print(new_obj_path, \"Has been appended to datasets/coco2017/train2017.txt\")\n",
    "  except:\n",
    "    print(new_obj_path, \"Does not have 'train.txt' folder in it, skipped\")\n",
    "coco2017_file_obj.close()"
   ]
  },
  {
   "cell_type": "markdown",
   "metadata": {},
   "source": [
    "# Move images to coco dataset"
   ]
  },
  {
   "cell_type": "code",
   "execution_count": 10,
   "metadata": {},
   "outputs": [
    {
     "name": "stdout",
     "output_type": "stream",
     "text": [
      "/home/roborn/Documents/OID_YoloV5/yolov5/datasets/coco-additions/finished Does not have 'obj_train_data' folder in it, skipped\n",
      "[Moved] bicycle_helmet images and labels to coco paths /home/roborn/Documents/OID_YoloV5/yolov5/datasets/coco2017/images/train2017\n",
      "[Moved] electric_hoverboard images and labels to coco paths /home/roborn/Documents/OID_YoloV5/yolov5/datasets/coco2017/images/train2017\n",
      "[Moved] electric_unicycle images and labels to coco paths /home/roborn/Documents/OID_YoloV5/yolov5/datasets/coco2017/images/train2017\n",
      "[Moved] electric_scooter images and labels to coco paths /home/roborn/Documents/OID_YoloV5/yolov5/datasets/coco2017/images/train2017\n"
     ]
    }
   ],
   "source": [
    "import os \n",
    "\n",
    "coco_additions_path = os.path.join(os.getcwd(),\"datasets/coco-additions/\")\n",
    "# print(coco_additions_path)\n",
    "additional_classes = os.listdir(coco_additions_path)\n",
    "# print(additional_classes)\n",
    "\n",
    "\n",
    "for obj in additional_classes:\n",
    "  new_obj_path=os.path.join(coco_additions_path,obj)\n",
    "  try:\n",
    "    obj_train_data = os.path.join(new_obj_path,\"obj_train_data\") # get the specific file \n",
    "    jpg_names = [os.path.splitext(file)[0]  for file in os.listdir(obj_train_data) if  file.endswith(\".jpg\")]\n",
    "    # C:\\Users\\justm\\Documents\\OID_YoloV5\\yolov5\\datasets\\coco2017\\images\\train2017\n",
    "    coco_image_path = os.path.normpath(os.path.join(os.getcwd(),\"datasets/coco2017/images/train2017\"))\n",
    "    coco_label_path = os.path.normpath(os.path.join(os.getcwd(),\"datasets/coco2017/labels/train2017\"))\n",
    "\n",
    "    \n",
    "    for image in jpg_names:\n",
    "      # shutil.move(\"path/to/current/file.foo\", \"path/to/new/destination/for/file.foo\")\n",
    "      label_file_name = image + \".jpg\"\n",
    "      jpg_file_name = image + \".txt\"\n",
    "      # print(os.path.normpath(os.path.join(obj_train_data,label_file_name)),os.path.normpath(os.path.join(coco_image_path,label_file_name)))\n",
    "      shutil.move(os.path.normpath(os.path.join(obj_train_data,label_file_name)),os.path.normpath(os.path.join(coco_image_path,label_file_name)))\n",
    "      shutil.move(os.path.normpath(os.path.join(obj_train_data,jpg_file_name)),os.path.normpath(os.path.join(coco_label_path,jpg_file_name)))\n",
    "\n",
    "    print(f\"[Moved] {obj} images and labels to coco paths {coco_image_path}\")\n",
    "  except Exception as e: \n",
    "    print(new_obj_path, \"Does not have 'obj_train_data' folder in it, skipped\")\n",
    "\n",
    "\n"
   ]
  },
  {
   "cell_type": "markdown",
   "metadata": {},
   "source": [
    "# Selecting a custom amount of training samples"
   ]
  },
  {
   "cell_type": "code",
   "execution_count": 3,
   "metadata": {},
   "outputs": [
    {
     "name": "stdout",
     "output_type": "stream",
     "text": [
      "/home/roborn/Documents/OID_YoloV5/yolov5/datasets/coco2017/train2017.txt\n",
      "Has been appended to train80000.txt\n"
     ]
    }
   ],
   "source": [
    "# train2017.txt\n",
    "# Standard format     ./images/train2017/000000109622.jpg     \n",
    "limit = 80000 # only removes from coco dataset\n",
    "\n",
    "coco_train_txt = os.path.join(os.getcwd(),\"datasets/coco2017/train2017.txt\")\n",
    "print(coco_train_txt)\n",
    "\n",
    "keep_lines = []\n",
    "with open(coco_train_txt) as f: # open text file\n",
    "    for line in f: # for each line\n",
    "      file_name = os.path.splitext(os.path.basename(line))[0]\n",
    "      if file_name.isdigit(): # is a digit number means its from coco \n",
    "        if len(keep_lines) < limit:\n",
    "          keep_lines.append(file_name)\n",
    "      else:\n",
    "        keep_lines.append(file_name)\n",
    "\n",
    "\n",
    "\n",
    "with open(os.path.join(os.getcwd(),\"datasets/coco2017/\" + f\"train{limit}.txt\"), 'w') as outfile:\n",
    "  for file_name in keep_lines:\n",
    "      line_value = f\"./images/train2017/{file_name}.jpg\"\n",
    "      outfile.write(line_value)\n",
    "      outfile.write(\"\\n\")\n",
    "outfile.close()\n",
    "\n",
    "\n",
    "print( f\"Has been appended to train{limit}.txt\")"
   ]
  },
  {
   "cell_type": "markdown",
   "metadata": {},
   "source": [
    "# Delete all images that dont start with 0000 \n",
    "Removing images that are not part of the original coco dataset\n"
   ]
  },
  {
   "cell_type": "code",
   "execution_count": 57,
   "metadata": {},
   "outputs": [],
   "source": [
    "# C:\\Users\\justm\\Documents\\OID_YoloV5\\yolov5\\datasets\\coco2017\\images\\train2017\n",
    "\n",
    "images_path = r\"C:\\Users\\justm\\Documents\\OID_YoloV5\\yolov5\\datasets\\coco2017\\images\\train2017\"\n",
    "label_path = r\"C:\\Users\\justm\\Documents\\OID_YoloV5\\yolov5\\datasets\\coco2017\\labels\\train2017\"\n",
    "\n",
    "\n",
    "images_files = os.listdir(images_path)\n",
    "\n",
    "for names in images_files: \n",
    "  if names[0:4] != \"0000\": # original coco images are 0000\n",
    "    jpg_path = os.path.join(images_path,names)\n",
    "    label_names = names.split(\".\")[0] + \".txt\"\n",
    "    txt_path = os.path.join(label_path,label_names)\n",
    "    os.remove(jpg_path)\n",
    "    os.remove(txt_path)\n"
   ]
  }
 ],
 "metadata": {
  "kernelspec": {
   "display_name": "Python 3.9.13 ('venv': venv)",
   "language": "python",
   "name": "python3"
  },
  "language_info": {
   "codemirror_mode": {
    "name": "ipython",
    "version": 3
   },
   "file_extension": ".py",
   "mimetype": "text/x-python",
   "name": "python",
   "nbconvert_exporter": "python",
   "pygments_lexer": "ipython3",
   "version": "3.9.13"
  },
  "orig_nbformat": 4,
  "vscode": {
   "interpreter": {
    "hash": "cdfbb692752a8b7c6ee754d734d6db25c6e34148824b28126cade039c2ea4453"
   }
  }
 },
 "nbformat": 4,
 "nbformat_minor": 2
}
