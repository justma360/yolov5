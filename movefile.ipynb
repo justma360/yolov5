{
 "cells": [
  {
   "cell_type": "markdown",
   "metadata": {},
   "source": [
    "# Useful conversion functions\n"
   ]
  },
  {
   "cell_type": "markdown",
   "metadata": {},
   "source": [
    "First changes from CVAT yoloV5 style so that you can change the class number. Thus you can add it on top of coco dataset "
   ]
  },
  {
   "cell_type": "code",
   "execution_count": 102,
   "metadata": {},
   "outputs": [],
   "source": [
    "import os \n",
    "\n",
    "coco_additions_path = os.path.join(os.getcwd(),\"datasets/coco-additions/\")\n",
    "# print(coco_additions_path)\n",
    "additional_classes = os.listdir(coco_additions_path)\n",
    "# print(additional_classes)\n",
    "\n",
    "\n",
    "for obj in additional_classes:\n",
    "  new_obj_path=os.path.join(coco_additions_path,obj)\n",
    "\n",
    "  try:\n",
    "    obj_train_data = os.path.join(new_obj_path,\"obj_train_data\") # get the specific file \n",
    "    additional_obj_train_data = [os.path.normpath(os.path.join(obj_train_data,file))  for file in os.listdir(obj_train_data) if  file.endswith(\".txt\")] # find txt in it\n",
    "    class_number  = int(input(f\"[{obj}]Please enter a the new class number as an integer\"))\n",
    "\n",
    "    for text_file in additional_obj_train_data: \n",
    "      annotations = []\n",
    "      with open(text_file) as f: # open text file\n",
    "          for line in f: # for each line\n",
    "            labels = line.split() \n",
    "            if (not labels[0].isdigit()):\n",
    "              raise Exception(text_file, \"label is not a digit (possible still a label not a number)\") \n",
    "\n",
    "            labels[0] = class_number\n",
    "            newline = str(labels[0]) + \" \" + str(labels[1]) + \" \" + str(labels[2]) + \" \" + str(labels[3]) + \" \" + str(labels[4])\n",
    "            line = line.replace(line, newline)\n",
    "            annotations.append(line) # List of string for each line (replace first value with class number entered)\n",
    "          f.close()\n",
    "\n",
    "      with open(text_file, \"w\") as outfile:\n",
    "        for line in annotations:\n",
    "            outfile.write(line)\n",
    "            outfile.write(\"\\n\")\n",
    "        outfile.close()\n",
    "\n",
    "  except Exception as e: \n",
    "    print(new_obj_path, \"Does not have 'obj_train_data' folder in it, skipped\")\n",
    "\n",
    "\n"
   ]
  },
  {
   "cell_type": "markdown",
   "metadata": {},
   "source": [
    "Change the ```train.txt``` file so that it matches the coco2017 ```train2017.txt``` style\n",
    "\n",
    "coco train2017.txt style = ```./images/train2017/000000109622.jpg```\n",
    "\n",
    "cvat yolo style  = ```data/obj_train_data/hoverboard_0.jpg```\n"
   ]
  },
  {
   "cell_type": "code",
   "execution_count": 98,
   "metadata": {},
   "outputs": [],
   "source": [
    "import os\n",
    "import shutil\n",
    "\n",
    "coco_additions_path = os.path.join(os.getcwd(),\"datasets/coco-additions/\")\n",
    "# print(coco_additions_path)\n",
    "additional_classes = os.listdir(coco_additions_path)\n",
    "# print(additional_classes)\n",
    "\n",
    "\n",
    "for obj in additional_classes:\n",
    "  new_obj_path=os.path.normpath(os.path.join(coco_additions_path,obj))\n",
    "\n",
    "  try: \n",
    "    train_txt_file=os.path.normpath(os.path.join(new_obj_path,\"train.txt\"))\n",
    "    # shutil.copyfile(train_txt_file, os.path.normpath(os.path.join(new_obj_path,\"train_original.txt\")))\n",
    "    annotations = []\n",
    "    with open(train_txt_file) as f: # open text file\n",
    "        for line in f: # for each line\n",
    "          image_name = line.split(\"/\")[-1].strip() # removes \\n at the end as well\n",
    "          image_line = f\"./images/train2017/{image_name}\"\n",
    "          annotations.append(image_line) # List of string for each line (replace first value with class number entered)\n",
    "        f.close()\n",
    "    with open(train_txt_file, \"w\") as outfile:\n",
    "      for line in annotations:\n",
    "          outfile.write(line)\n",
    "          outfile.write(\"\\n\")\n",
    "      outfile.close()\n",
    "  except Exception as e: \n",
    "    print(new_obj_path, \"Does not have 'train.txt' folder in it, skipped\")\n"
   ]
  },
  {
   "cell_type": "markdown",
   "metadata": {},
   "source": [
    "# Merge the coco2017.txt and the cvat train.txt"
   ]
  },
  {
   "cell_type": "markdown",
   "metadata": {},
   "source": [
    "BUGS: allows duplicates of the same, however yoloV5 training model should be able to deal with it"
   ]
  },
  {
   "cell_type": "code",
   "execution_count": 99,
   "metadata": {},
   "outputs": [
    {
     "name": "stdout",
     "output_type": "stream",
     "text": [
      "c:\\Users\\justm\\Documents\\OID_YoloV5\\yolov5\\datasets\\coco-additions\\electric_scooter Has been appended to datasets/coco2017/train2017.txt\n",
      "c:\\Users\\justm\\Documents\\OID_YoloV5\\yolov5\\datasets\\coco-additions\\electric_unicycle Does not have 'train.txt' folder in it, skipped\n",
      "c:\\Users\\justm\\Documents\\OID_YoloV5\\yolov5\\datasets\\coco-additions\\hoverboard Does not have 'train.txt' folder in it, skipped\n"
     ]
    }
   ],
   "source": [
    "import os\n",
    "import shutil\n",
    "coco2017_train_path = os.path.join(os.getcwd(),\"datasets/coco2017/train2017.txt\") # opens the train.txt path\n",
    "# shutil.copyfile(coco2017_train_path, os.path.normpath(os.path.join(os.getcwd(),\"datasets/coco2017/train2017_original.txt\")))\n",
    "\n",
    "coco2017_file_obj = open(coco2017_train_path, 'a')\n",
    "\n",
    "coco_additions_path = os.path.join(os.getcwd(),\"datasets/coco-additions/\")\n",
    "additional_classes = os.listdir(coco_additions_path)\n",
    "for obj in additional_classes:\n",
    "  new_obj_path=os.path.normpath(os.path.join(coco_additions_path,obj))\n",
    "\n",
    "  try: \n",
    "    train_txt_file=os.path.normpath(os.path.join(new_obj_path,\"train.txt\"))\n",
    "    with open(train_txt_file) as f: # open text file\n",
    "          for line in f: # for each line\n",
    "            coco2017_file_obj.write(line) # append to the end\n",
    "          f.close() # close file when done\n",
    "    coco2017_file_obj.close()\n",
    "    print(new_obj_path, \"Has been appended to datasets/coco2017/train2017.txt\")\n",
    "  except:\n",
    "    print(new_obj_path, \"Does not have 'train.txt' folder in it, skipped\")"
   ]
  },
  {
   "cell_type": "markdown",
   "metadata": {},
   "source": [
    "# Move images to coco dataset"
   ]
  },
  {
   "cell_type": "code",
   "execution_count": null,
   "metadata": {},
   "outputs": [],
   "source": []
  }
 ],
 "metadata": {
  "kernelspec": {
   "display_name": "Python 3.8.10 ('venv': venv)",
   "language": "python",
   "name": "python3"
  },
  "language_info": {
   "codemirror_mode": {
    "name": "ipython",
    "version": 3
   },
   "file_extension": ".py",
   "mimetype": "text/x-python",
   "name": "python",
   "nbconvert_exporter": "python",
   "pygments_lexer": "ipython3",
   "version": "3.8.10"
  },
  "orig_nbformat": 4,
  "vscode": {
   "interpreter": {
    "hash": "44265fd2b9bb58bad603853871b28b1fc4b4939483226e9584da277546b03963"
   }
  }
 },
 "nbformat": 4,
 "nbformat_minor": 2
}
